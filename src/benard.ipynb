{
 "cells": [
  {
   "cell_type": "code",
   "execution_count": 1,
   "metadata": {
    "collapsed": false,
    "deletable": true,
    "editable": true
   },
   "outputs": [
    {
     "data": {
      "text/html": [
       "<script>\n",
       "// Immediately-invoked-function-expression to avoid global variables.\n",
       "(function() {\n",
       "    var warning_div = document.getElementById(\"webio-warning-15649127489320611163\");\n",
       "    var hide = function () {\n",
       "        var script = document.getElementById(\"webio-setup-3119868564973888927\");\n",
       "        var parent = script && script.parentElement;\n",
       "        var grandparent = parent && parent.parentElement;\n",
       "        if (grandparent) {\n",
       "            grandparent.style.display = \"none\";\n",
       "        }\n",
       "        warning_div.style.display = \"none\";\n",
       "    };\n",
       "    if (typeof Jupyter !== \"undefined\") {\n",
       "        console.log(\"WebIO detected Jupyter notebook environment.\");\n",
       "        // Jupyter notebook.\n",
       "        var extensions = (\n",
       "            Jupyter\n",
       "            && Jupyter.notebook.config.data\n",
       "            && Jupyter.notebook.config.data.load_extensions\n",
       "        );\n",
       "        if (extensions && extensions[\"webio/main\"]) {\n",
       "            // Extension already loaded.\n",
       "            console.log(\"Jupyter WebIO nbextension detected; not loading ad-hoc.\");\n",
       "            hide();\n",
       "            return;\n",
       "        }\n",
       "        console.warn(\"Loading WebIO Jupyter extension on an ad-hoc basis. Consider enabling the WebIO nbextension for a stabler experience (this should happen automatically when building WebIO).\");\n",
       "        warning_div.innerHTML = \"<strong>Loading WebIO Jupyter extension on an ad-hoc basis. Consider enabling the WebIO nbextension for a stabler experience (this should happen automatically when building WebIO).</strong>\";\n",
       "    } else if (window.location.pathname.includes(\"/lab\")) {\n",
       "        // Guessing JupyterLa\n",
       "        console.log(\"Jupyter Lab detected; make sure the @webio/jupyter-lab-provider labextension is installed.\");\n",
       "        hide();\n",
       "        return;\n",
       "    }\n",
       "})();\n",
       "\n",
       "</script>\n",
       "<p\n",
       "    id=\"webio-warning-15649127489320611163\"\n",
       "    class=\"output_text output_stderr\"\n",
       "    style=\"padding: 1em; font-weight: bold;\"\n",
       ">\n",
       "    Unable to load WebIO. Please make sure WebIO works for your Jupyter client.\n",
       "    For troubleshooting, please see <a href=\"https://juliagizmos.github.io/WebIO.jl/latest/providers/ijulia/\">\n",
       "    the WebIO/IJulia documentation</a>.\n",
       "    <!-- TODO: link to installation docs. -->\n",
       "</p>\n"
      ],
      "text/plain": [
       "HTML{String}(\"<script>\\n// Immediately-invoked-function-expression to avoid global variables.\\n(function() {\\n    var warning_div = document.getElementById(\\\"webio-warning-15649127489320611163\\\");\\n    var hide = function () {\\n        var script = document.getElementById(\\\"webio-setup-3119868564973888927\\\");\\n        var parent = script && script.parentElement;\\n        var grandparent = parent && parent.parentElement;\\n        if (grandparent) {\\n            grandparent.style.display = \\\"none\\\";\\n        }\\n        warning_div.style.display = \\\"none\\\";\\n    };\\n    if (typeof Jupyter !== \\\"undefined\\\") {\\n        console.log(\\\"WebIO detected Jupyter notebook environment.\\\");\\n        // Jupyter notebook.\\n        var extensions = (\\n            Jupyter\\n            && Jupyter.notebook.config.data\\n            && Jupyter.notebook.config.data.load_extensions\\n        );\\n        if (extensions && extensions[\\\"webio/main\\\"]) {\\n            // Extension already loaded.\\n            console.log(\\\"Jupyter WebIO nbextension detected; not loading ad-hoc.\\\");\\n            hide();\\n            return;\\n        }\\n        console.warn(\\\"Loading WebIO Jupyter extension on an ad-hoc basis. Consider enabling the WebIO nbextension for a stabler experience (this should happen automatically when building WebIO).\\\");\\n        warning_div.innerHTML = \\\"<strong>Loading WebIO Jupyter extension on an ad-hoc basis. Consider enabling the WebIO nbextension for a stabler experience (this should happen automatically when building WebIO).</strong>\\\";\\n    } else if (window.location.pathname.includes(\\\"/lab\\\")) {\\n        // Guessing JupyterLa\\n        console.log(\\\"Jupyter Lab detected; make sure the @webio/jupyter-lab-provider labextension is installed.\\\");\\n        hide();\\n        return;\\n    }\\n})();\\n\\n</script>\\n<p\\n    id=\\\"webio-warning-15649127489320611163\\\"\\n    class=\\\"output_text output_stderr\\\"\\n    style=\\\"padding: 1em; font-weight: bold;\\\"\\n>\\n    Unable to load WebIO. Please make sure WebIO works for your Jupyter client.\\n    For troubleshooting, please see <a href=\\\"https://juliagizmos.github.io/WebIO.jl/latest/providers/ijulia/\\\">\\n    the WebIO/IJulia documentation</a>.\\n    <!-- TODO: link to installation docs. -->\\n</p>\\n\")"
      ]
     },
     "metadata": {},
     "output_type": "display_data"
    }
   ],
   "source": [
    "using Zygote, Plots, DelimitedFiles, Dierckx, TOML, LaTeXStrings, Interact"
   ]
  },
  {
   "cell_type": "code",
   "execution_count": 2,
   "metadata": {
    "collapsed": false,
    "deletable": true,
    "editable": true
   },
   "outputs": [
    {
     "data": {
      "text/plain": [
       "101325.0"
      ]
     },
     "execution_count": 2,
     "metadata": {},
     "output_type": "execute_result"
    }
   ],
   "source": [
    "const N    = 65      # Total number of layers.\n",
    "NPBL = 8       # Total number of layers in the PBL.\n",
    "const NSTR = 27      # Total number of layers in the stratosphere.\n",
    "const Nπ   = 12      # Total number of pure pressure layers (minimum 1 included).\n",
    "const Nσ   = 2       # Total number of pure sigma layers (minimum 1 included).\n",
    "\n",
    "const πPBL = 90000.  # pressure of the top of the PBL in pascals\n",
    "const πₛₜᵣ = 25000.  # pressure of the tropopause in pascals\n",
    "const π₁   = 9.9     # pressure of the full layer l=1, in pascals\n",
    "const δπL  = 410.    # [Delta pressure] of the full layer l=L, in pascals \n",
    "const π₀₀  = 101325. # standard surface pressure, in pascals"
   ]
  },
  {
   "cell_type": "code",
   "execution_count": 3,
   "metadata": {
    "collapsed": false,
    "deletable": true,
    "editable": true
   },
   "outputs": [
    {
     "data": {
      "text/plain": [
       "1.7"
      ]
     },
     "execution_count": 3,
     "metadata": {},
     "output_type": "execute_result"
    }
   ],
   "source": [
    "α₁ =  2.8; α₃ =  1.7"
   ]
  },
  {
   "cell_type": "markdown",
   "metadata": {
    "deletable": true,
    "editable": true
   },
   "source": [
    "LLAPRXPK:\n",
    "Full layers are assumed to be computed as for the options LVERTFE=F, NDLNPR=0 of ARPEGE/ALADIN.\n",
    "LLAPRXPK=T => pressure(l)=0.5(pressure(lbar-1)+pressure(lbar))\n",
    "   (\"l\" stands for full levels, \"lbar\" for half levels).\n",
    " LLAPRXPK=F => a more tricky way to compute pressure(l).\n",
    " When using the vertical layers for LVERTFE=F, NDLNPR=0, LAPRXPK=F\n",
    " in the model, it is recommended to use LLAPRXPK=F.\n",
    " When using the vertical layers for LVERTFE=F, NDLNPR=0, LAPRXPK=T\n",
    "of for LVERTFE=T, it is recommended to use LLAPRXPK=T."
   ]
  },
  {
   "cell_type": "code",
   "execution_count": 4,
   "metadata": {
    "collapsed": false,
    "deletable": true,
    "editable": true
   },
   "outputs": [
    {
     "data": {
      "text/plain": [
       "19.8"
      ]
     },
     "execution_count": 4,
     "metadata": {},
     "output_type": "execute_result"
    }
   ],
   "source": [
    "const LLAPRXPK = true \n",
    "δπ₁ = LLAPRXPK ? 2π₁ : ℯ * π₁ "
   ]
  },
  {
   "cell_type": "code",
   "execution_count": 5,
   "metadata": {
    "collapsed": false,
    "deletable": true,
    "editable": true
   },
   "outputs": [
    {
     "data": {
      "text/plain": [
       "m (generic function with 1 method)"
      ]
     },
     "execution_count": 5,
     "metadata": {},
     "output_type": "execute_result"
    }
   ],
   "source": [
    "\"\"\"\n",
    "Definition of the Stretching function. \n",
    "See Pierre Bénard section 3 \n",
    "\"\"\"\n",
    "\n",
    "x₁ = 1.0 / N; \n",
    "  x₂ = NSTR / N\n",
    "  x₃ = (N - NPBL) / N\n",
    "  x₄ = (N - 1.0) / N\n",
    "\n",
    "  y₁ = δπ₁ / π₀₀\n",
    "  y₂ = πₛₜᵣ / π₀₀   \n",
    "  y₃ = πPBL / π₀₀\n",
    "  y₄ = (π₀₀ - δπL) / π₀₀\n",
    "\n",
    "function m(x,α₁ ,α₃)    \n",
    "  d₁ = (x₁ * y₂ - x₂ * y₁) * (1 / x₁) * (x₂ - x₁)^(-α₁) \n",
    "  d₃ = ((1 - x₄) * (1 - y₃) - (1 - x₃) * (1 - y₄)) / (1 - x₄) * (x₄ - x₃)^(-α₃)\n",
    "\n",
    "    ystr(x) = (y₁ / x₁) * x + d₁ * (x - x₁)^α₁         \n",
    "    ypbl(x) = 1 - (1 - y₄) / (1 - x₄) * (1 - x) - d₃ * (x₄ - x)^(α₃)    \n",
    "    if 0.0 ≤ x ≤ x₁      # Upper most sub-domain\n",
    "        return y₁ / x₁ * x\n",
    "    elseif x₁ < x ≤  x₂  # \"Strato\" sub-domain               \n",
    "        return ystr(x)\n",
    "    elseif x₂ < x ≤ x₃   # \"Tropo sub-domain        \n",
    "        Δx = x₃ - x₂; Δy = y₃ - y₂; s = Δy / Δx\n",
    "        return y₂ + (x - x₂)*ystr'(x₂) + (x - x₂)^2*(Δx*(s-ystr'(x₂)) + (x-x₃)*(ystr'(x₂)+ypbl'(x₃)-2s))/(Δx^2)\n",
    "    elseif x₃ < x ≤ x₄   # \"PBL\" sub-domain        \n",
    "        return ypbl(x) \n",
    "    elseif x₄ < x ≤ 1.0   # Bottom sub domain\n",
    "        return 1.0 - (1.0 - y₄) / (1.0 - x₄) * (1 - x)\n",
    "    else \n",
    "        DomainError(x, \"m is only defined for 0 ≤ x ≤ 1\")\n",
    "    end \n",
    "end"
   ]
  },
  {
   "cell_type": "code",
   "execution_count": null,
   "metadata": {
    "collapsed": false,
    "deletable": true,
    "editable": true
   },
   "outputs": [],
   "source": [
    "# α₁ in 1:0.1:5, α₃ in 1:0.1:5   suggested by Bénard \n",
    "ui = @manipulate for α₁ in 1:0.1:5, α₃ in 1:0.1:5  \n",
    "\n",
    "plot(x-> m(x,α₁ ,α₃), 0, 1, label = \"Bénard\")\n",
    "scatter!([x₁, x₂, x₃, x₄], [y₁, y₂, y₃, y₄], label = \"\")\n",
    "plot!(yticks = ([y₁, y₂, y₃, y₄],  [L\"y_1\", L\"y_2\", L\"y_3\",L\"y_4\"]))\n",
    "plot!(xticks = ([x₁, x₂, x₃, x₄],  [L\"x_1\", L\"x_2\", L\"x_3\",L\"x_4\"]))\n",
    "plot!(legend = :topleft)\n",
    "plot!(title = \"Stretching function\")\n",
    "\n",
    "# Compare with cubic splines \n",
    "\n",
    "x = [0.0, x₁, x₂, x₃, x₄, 1.0]\n",
    "y = [0.0, y₁, y₂, y₃, y₄, 1.0]\n",
    "sp1 = Spline1D(x, y)\n",
    "plot!(x->sp1(x), 0, 1, label = \"Spline\")\n",
    "end"
   ]
  },
  {
   "cell_type": "code",
   "execution_count": 7,
   "metadata": {
    "collapsed": false,
    "deletable": true,
    "editable": true
   },
   "outputs": [
    {
     "ename": "MethodError",
     "evalue": "MethodError: no method matching m(::Float64)\nClosest candidates are:\n  m(::Any, !Matched::Any, !Matched::Any) at In[5]:17",
     "output_type": "error",
     "traceback": [
      "MethodError: no method matching m(::Float64)\nClosest candidates are:\n  m(::Any, !Matched::Any, !Matched::Any) at In[5]:17",
      "",
      "Stacktrace:",
      " [1] top-level scope at In[7]:25"
     ]
    }
   ],
   "source": [
    "\"\"\"\n",
    "Definition of the hybridicity function. \n",
    "See Pierre Bénard section 4 \n",
    "\"\"\"\n",
    "function h(y,αₕ)\n",
    "    yσ = m((N - Nσ) / N)\n",
    "    yπ = m(Nπ / N) \n",
    "    d₁ = αₕ * yσ^2 / (yσ - yπ)   \n",
    "    d₂ = 1 + αₕ * yσ / (yσ - yπ)  \n",
    "    if 0.0 ≤ y ≤ yπ \n",
    "       0.0 \n",
    "    elseif yπ ≤ y ≤ yσ\n",
    "       d₁ / (d₂ - ((y - yπ) / (yσ - yπ))^αₕ) \n",
    "    elseif yσ ≤ y ≤ 1.0\n",
    "       y      \n",
    "    else\n",
    "        DomainError(y, \"h is only defined for 0 ≤ y ≤ 1\")\n",
    "    end    \n",
    "end \n",
    "\n",
    "\n",
    "αₕ = -1.6\n",
    "\n",
    "\n",
    "#plot hybridicity function\n",
    "yσ = m((N - Nσ) / N)\n",
    "yπ = m(Nπ / N) \n",
    "plot(h, 0, 1) \n",
    "plot!(x->x, 0, 1, linestyle = :dash)\n",
    "plot!([yπ  yσ], [0 yσ], seriestype = :scatter)\n",
    "plot!(xticks = ([0, yπ,  yσ, 1], [L\"0\",L\"y\\pi\",L\"y\\sigma\",L\"1\"]))\n",
    "plot!(yticks = ([0, 1],[L\"0\",L\"1\"]) )\n",
    "plot!(legend = false)"
   ]
  },
  {
   "cell_type": "code",
   "execution_count": 8,
   "metadata": {
    "collapsed": false,
    "deletable": true,
    "editable": true
   },
   "outputs": [
    {
     "ename": "MethodError",
     "evalue": "MethodError: no method matching m(::Float64)\nClosest candidates are:\n  m(::Any, !Matched::Any, !Matched::Any) at In[5]:17",
     "output_type": "error",
     "traceback": [
      "MethodError: no method matching m(::Float64)\nClosest candidates are:\n  m(::Any, !Matched::Any, !Matched::Any) at In[5]:17",
      "",
      "Stacktrace:",
      " [1] A(::Float64) at ./In[8]:1",
      " [2] _broadcast_getindex_evalf at ./broadcast.jl:578 [inlined]",
      " [3] _broadcast_getindex at ./broadcast.jl:551 [inlined]",
      " [4] getindex at ./broadcast.jl:511 [inlined]",
      " [5] copy at ./broadcast.jl:787 [inlined]",
      " [6] materialize(::Base.Broadcast.Broadcasted{Base.Broadcast.DefaultArrayStyle{1},Nothing,typeof(A),Tuple{StepRangeLen{Float64,Base.TwicePrecision{Float64},Base.TwicePrecision{Float64}}}}) at ./broadcast.jl:753",
      " [7] top-level scope at In[8]:5"
     ]
    }
   ],
   "source": [
    "A(x) = π₀₀ * (m(x) - h(m(x), αₕ))   # Bénard equation  14\n",
    "B(x) = h(m(x),αₕ)                  # Bénard equation  15\n",
    "\n",
    "x = range(0.0, 1.0, length = N+1)\n",
    "writedlm(\"A.txt\", A.(x))\n",
    "writedlm(\"B.txt\", B.(x))\n"
   ]
  }
 ],
 "metadata": {
  "@webio": {
   "lastCommId": "7C7089D5CAD94380B8CD8A5076CEEA17",
   "lastKernelId": "fe3174bb-0283-45eb-8ec1-3eb7456af576"
  },
  "kernelspec": {
   "display_name": "Julia 1.1.1",
   "language": "julia",
   "name": "julia-1.1"
  },
  "language_info": {
   "file_extension": ".jl",
   "mimetype": "application/julia",
   "name": "julia",
   "version": "1.1.1"
  }
 },
 "nbformat": 4,
 "nbformat_minor": 2
}
